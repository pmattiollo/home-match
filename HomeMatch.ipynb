{
 "cells": [
  {
   "cell_type": "markdown",
   "id": "f1ba5e5d2e97e042",
   "metadata": {},
   "source": [
    "### Step 1: Setting Up the Python Application"
   ]
  },
  {
   "cell_type": "markdown",
   "id": "c15c4f3198144529",
   "metadata": {},
   "source": [
    "Import all the dependencies"
   ]
  },
  {
   "cell_type": "code",
   "id": "801dc01782c1fa9b",
   "metadata": {
    "ExecuteTime": {
     "end_time": "2024-05-20T09:39:33.550308Z",
     "start_time": "2024-05-20T09:39:33.517152Z"
    }
   },
   "source": [
    "# Imports\n",
    "from langchain_openai import ChatOpenAI\n",
    "from langchain_core.prompts import PromptTemplate\n",
    "from langchain_community.document_loaders.csv_loader import CSVLoader\n",
    "from langchain_chroma import Chroma\n",
    "from langchain_text_splitters import CharacterTextSplitter\n",
    "from langchain_openai import OpenAIEmbeddings\n",
    "\n",
    "import pandas as pd\n",
    "import json"
   ],
   "outputs": [],
   "execution_count": 27
  },
  {
   "cell_type": "markdown",
   "id": "9dc3b4fc5da0da92",
   "metadata": {},
   "source": [
    "Define some constants for the project"
   ]
  },
  {
   "cell_type": "code",
   "id": "5349021f2652badd",
   "metadata": {},
   "source": [
    "# Model name\n",
    "MODEL_NAME = \"gpt-3.5-turbo\"\n",
    "\n",
    "# Define the API key for OpenAI\n",
    "OPENAI_API_KEY = \"TO_BE_FILLED\""
   ],
   "outputs": [],
   "execution_count": null
  },
  {
   "cell_type": "markdown",
   "id": "f456526411ff6dd0",
   "metadata": {},
   "source": [
    "### Step 2: Generating Real Estate Listings"
   ]
  },
  {
   "cell_type": "code",
   "id": "50ae6cdc93e1242e",
   "metadata": {},
   "source": [
    "def generate_real_state_listings(count=10):\n",
    "    llm = ChatOpenAI(\n",
    "        model_name=MODEL_NAME, \n",
    "        temperature=0.0, \n",
    "        openai_api_key=OPENAI_API_KEY\n",
    "    )\n",
    "\n",
    "    # Define the prompt template for generating real estate listings\n",
    "    prompt_template = PromptTemplate(\n",
    "        input_variables=[\"listing_count\"],\n",
    "        template=\"\"\"\n",
    "        Generate {listing_count} real estate listings in JSON format. Each listing should have the following fields:\n",
    "            - Neighborhood\n",
    "            - Price\n",
    "            - Bedrooms\n",
    "            - Bathrooms\n",
    "            - House Size\n",
    "            - Description\n",
    "            - Neighborhood Description\n",
    "    \n",
    "        Here is an example of the JSON format:\n",
    "        [\n",
    "            {{\n",
    "                \"Neighborhood\": \"Green Oaks\",\n",
    "                \"Price\": \"$800,000\",\n",
    "                \"Bedrooms\": 3,\n",
    "                \"Bathrooms\": 2,\n",
    "                \"House Size\": \"2,000 sqft\",\n",
    "                \"Description\": \"Welcome to this eco-friendly oasis nestled in the heart of Green Oaks. This charming 3-bedroom, 2-bathroom home boasts energy-efficient features such as solar panels and a well-insulated structure. Natural light floods the living spaces, highlighting the beautiful hardwood floors and eco-conscious finishes. The open-concept kitchen and dining area lead to a spacious backyard with a vegetable garden, perfect for the eco-conscious family. Embrace sustainable living without compromising on style in this Green Oaks gem.\",\n",
    "                \"Neighborhood Description\": \"Green Oaks is a close-knit, environmentally-conscious community with access to organic grocery stores, community gardens, and bike paths. Take a stroll through the nearby Green Oaks Park or grab a cup of coffee at the cozy Green Bean Cafe. With easy access to public transportation and bike lanes, commuting is a breeze.\"\n",
    "            }},\n",
    "            ...\n",
    "        ]\n",
    "        \n",
    "        Please provide the listings in this exact JSON format.\n",
    "        \"\"\"\n",
    "    )\n",
    "\n",
    "    # Generate the listings by calling the model\n",
    "    prompt = prompt_template.format(listing_count=count)\n",
    "    response = llm.invoke(prompt)\n",
    "\n",
    "    # Parse the JSON response\n",
    "    listings = json.loads(response.content.strip())\n",
    "\n",
    "    # Create a DataFrame and save it to a CSV file\n",
    "    df = pd.DataFrame(listings)\n",
    "    df.to_csv('real_estate_listings.csv', index=False)\n",
    "\n",
    "    print(\"CSV file 'real_estate_listings.csv' generated successfully.\")"
   ],
   "outputs": [],
   "execution_count": null
  },
  {
   "cell_type": "code",
   "id": "aae1f8bfa6deed8e",
   "metadata": {},
   "source": [
    "generate_real_state_listings(10)"
   ],
   "outputs": [],
   "execution_count": null
  },
  {
   "cell_type": "markdown",
   "id": "bfa786bcaf38761d",
   "metadata": {},
   "source": [
    "### Step 3: Storing Listings in a Vector Database"
   ]
  },
  {
   "cell_type": "code",
   "id": "7145d838934aeefe",
   "metadata": {},
   "source": [
    "def load():\n",
    "    # load the documents\n",
    "    loader = CSVLoader(file_path=\"./real_estate_listings.csv\")\n",
    "    documents = loader.load()\n",
    "    \n",
    "    # split it into chunks\n",
    "    text_splitter = CharacterTextSplitter(chunk_size=1000, chunk_overlap=0)\n",
    "    split_docs = text_splitter.split_documents(documents)\n",
    "    \n",
    "    # extract metadata from the CSV and update documents\n",
    "    for doc in split_docs:\n",
    "        row_data = doc.page_content.split('\\n')\n",
    "\n",
    "        metadata_dict = {}\n",
    "        for line in row_data:\n",
    "            key, value = line.split(': ', 1)\n",
    "            metadata_dict[key.strip()] = value.strip()\n",
    "        doc.metadata.update(metadata_dict)\n",
    "        \n",
    "    return split_docs"
   ],
   "outputs": [],
   "execution_count": null
  },
  {
   "cell_type": "code",
   "id": "ccc464d3c781498",
   "metadata": {},
   "source": [
    "# load the documents and add metadata\n",
    "documents = load()\n",
    "\n",
    "# create the open-source embedding function\n",
    "embedding_function = OpenAIEmbeddings(openai_api_key=OPENAI_API_KEY)\n",
    "\n",
    "# create simple ids\n",
    "ids = [str(i) for i in range(1, len(documents) + 1)]\n",
    "\n",
    "# load it into Chroma\n",
    "db = Chroma.from_documents(documents, embedding_function, ids=ids)"
   ],
   "outputs": [],
   "execution_count": null
  },
  {
   "cell_type": "markdown",
   "id": "61ac0fc4638ba756",
   "metadata": {},
   "source": [
    "### Step 4: Building the User Preference Interface"
   ]
  },
  {
   "cell_type": "code",
   "id": "aa3bd09d60c76418",
   "metadata": {},
   "source": [
    "questions = [   \n",
    "    \"How big do you want your house to be?\",\n",
    "    \"What are 3 most important things for you in choosing this property?\",\n",
    "    \"Which amenities would you like?\",\n",
    "    \"Which transportation options are important to you?\",\n",
    "    \"How urban do you want your neighborhood to be?\"\n",
    "]\n",
    "\n",
    "answers = [\n",
    "    \"A comfortable three-bedroom house with a spacious kitchen and a cozy living room.\",\n",
    "    \"A quiet neighborhood, good local schools, and convenient shopping options.\",\n",
    "    \"A backyard for gardening, a two-car garage, and a modern, energy-efficient heating system.\",\n",
    "    \"Easy access to a reliable bus line, proximity to a major highway, and bike-friendly roads.\",\n",
    "    \"A balance between suburban tranquility and access to urban amenities like restaurants and theaters.\"\n",
    "]"
   ],
   "outputs": [],
   "execution_count": null
  },
  {
   "cell_type": "code",
   "id": "2ac3c3acab228642",
   "metadata": {},
   "source": [
    "def search(query, top_k=3):\n",
    "    return db.similarity_search(query, k=top_k)"
   ],
   "outputs": [],
   "execution_count": null
  },
  {
   "cell_type": "code",
   "id": "f408beb1ebf881bc",
   "metadata": {
    "ExecuteTime": {
     "end_time": "2024-05-20T10:05:40.836720Z",
     "start_time": "2024-05-20T10:05:40.266918Z"
    }
   },
   "source": [
    "# combine user preferences into a single query string\n",
    "query = \"\\n\".join(answers)\n",
    "\n",
    "# perform the search\n",
    "search_results = search(query)\n",
    "\n",
    "for result in search_results:\n",
    "    print(result.metadata)"
   ],
   "outputs": [
    {
     "name": "stdout",
     "output_type": "stream",
     "text": [
      "{'Bathrooms': '2', 'Bedrooms': '3', 'Description': 'Welcome to this charming 3-bedroom, 2-bathroom home in the desirable Maple Grove neighborhood. The open floor plan features a bright and airy living room with hardwood floors and a cozy fireplace. The updated kitchen boasts granite countertops and stainless steel appliances. Retreat to the master suite with a walk-in closet and en-suite bathroom. Enjoy outdoor living in the private backyard with a patio and garden. Experience comfort and convenience in Maple Grove.', 'House Size': '2,000 sqft', 'Neighborhood': 'Maple Grove', 'Neighborhood Description': 'Maple Grove is a quiet and friendly neighborhood with tree-lined streets and parks. Residents enjoy easy access to shopping centers, restaurants, and schools. Explore the nearby Maple Grove Park for outdoor recreation or take a short drive to the Maple Grove Shopping Center.', 'Price': '$550,000', 'row': 4, 'source': './real_estate_listings.csv'}\n",
      "{'Bathrooms': '3', 'Bedrooms': '4', 'Description': 'Welcome to this charming 4-bedroom, 3-bathroom home in the desirable Creekside Village neighborhood. The open floor plan features a bright and airy living room with hardwood floors and a cozy fireplace. The updated kitchen boasts granite countertops and stainless steel appliances. Retreat to the master suite with a walk-in closet and en-suite bathroom. Enjoy outdoor living in the private backyard with a patio and garden. Experience comfort and convenience in Creekside Village.', 'House Size': '2,300 sqft', 'Neighborhood': 'Creekside Village', 'Neighborhood Description': 'Creekside Village is a quiet and friendly neighborhood with tree-lined streets and parks. Residents enjoy easy access to shopping centers, restaurants, and schools. Explore the nearby Creekside Village Park for outdoor recreation or take a short drive to the Creekside Village Shopping Center.', 'Price': '$670,000', 'row': 9, 'source': './real_estate_listings.csv'}\n",
      "{'Bathrooms': '2', 'Bedrooms': '3', 'Description': 'Step into this charming 3-bedroom, 2-bathroom home in the sought-after Meadowbrook Heights neighborhood. The open floor plan features a gourmet kitchen with granite countertops and stainless steel appliances. The spacious living room boasts a cozy fireplace and hardwood floors. Retreat to the master suite with a walk-in closet and en-suite bathroom. Enjoy outdoor living in the private backyard with a patio and mature landscaping. Experience comfort and style in Meadowbrook Heights.', 'House Size': '2,100 sqft', 'Neighborhood': 'Meadowbrook Heights', 'Neighborhood Description': 'Meadowbrook Heights is a family-friendly neighborhood with tree-lined streets, parks, and top-rated schools. Residents enjoy easy access to shopping centers, restaurants, and entertainment options. Explore the nearby Meadowbrook Heights Park for outdoor recreation or take a short drive to the Meadowbrook Heights Golf Club.', 'Price': '$600,000', 'row': 8, 'source': './real_estate_listings.csv'}\n"
     ]
    }
   ],
   "execution_count": 31
  },
  {
   "cell_type": "markdown",
   "id": "f43afb6596dd8ab9",
   "metadata": {},
   "source": "### Step 6: Personalizing Listing Descriptions"
  },
  {
   "metadata": {
    "ExecuteTime": {
     "end_time": "2024-05-20T10:19:23.510964Z",
     "start_time": "2024-05-20T10:19:23.507026Z"
    }
   },
   "cell_type": "code",
   "source": [
    "# generate listing description\n",
    "def generate_listing_description(listing):\n",
    "    return f\"\"\"\n",
    "        Neighborhood: {listing[\"Neighborhood\"]}\n",
    "        Price: {listing[\"Price\"]}\n",
    "        Bedrooms: {listing[\"Bedrooms\"]}\n",
    "        Bathrooms: {listing[\"Bathrooms\"]}\n",
    "        House Size: {listing[\"House Size\"]}\n",
    "        Description: {listing[\"Description\"]}\n",
    "        Neighborhood Description: {listing[\"Neighborhood Description\"]}\n",
    "        \"\"\""
   ],
   "id": "593094b7c5c20813",
   "outputs": [],
   "execution_count": 44
  },
  {
   "metadata": {
    "ExecuteTime": {
     "end_time": "2024-05-20T10:15:36.863902Z",
     "start_time": "2024-05-20T10:15:36.860428Z"
    }
   },
   "cell_type": "code",
   "source": [
    "# generate user preferences according to the questions and answers\n",
    "def generate_user_preferences():\n",
    "    questions_and_answers = [f\"{question}\\n {answer}\\n\" for question, answer in zip(questions, answers)]\n",
    "    return \"\\n\".join(questions_and_answers)"
   ],
   "id": "626a45cb446569a7",
   "outputs": [],
   "execution_count": 33
  },
  {
   "metadata": {
    "ExecuteTime": {
     "end_time": "2024-05-20T10:20:27.341769Z",
     "start_time": "2024-05-20T10:20:27.337948Z"
    }
   },
   "cell_type": "code",
   "source": [
    "def generate_tailored_result(preferences, listing):\n",
    "    listing_description = generate_listing_description(listing)\n",
    "    \n",
    "    prompt = prompt_template.format(\n",
    "        listing_description=listing_description,\n",
    "        preferences=preferences\n",
    "    )\n",
    "    \n",
    "    print(prompt)\n",
    "    \n",
    "    llm = ChatOpenAI(\n",
    "        model_name=MODEL_NAME, \n",
    "        temperature=0.0, \n",
    "        openai_api_key=OPENAI_API_KEY\n",
    "    )\n",
    "    \n",
    "    response = llm.invoke(prompt)\n",
    "    tailored_description = response.content.strip()\n",
    "    \n",
    "    print(f\"Tailored Description:\\n{tailored_description}\\n\")"
   ],
   "id": "f3af788330b61669",
   "outputs": [],
   "execution_count": 46
  },
  {
   "metadata": {
    "ExecuteTime": {
     "end_time": "2024-05-20T10:15:42.186362Z",
     "start_time": "2024-05-20T10:15:42.183809Z"
    }
   },
   "cell_type": "code",
   "source": [
    "# generate user preferences according to the questions and answers\n",
    "def generate_user_preferences():\n",
    "    questions_and_answers = [f\"{question}\\n {answer}\\n\" for question, answer in zip(questions, answers)]\n",
    "    return \"\\n\".join(questions_and_answers)"
   ],
   "id": "e8cadc15456ec0d3",
   "outputs": [],
   "execution_count": 35
  },
  {
   "cell_type": "code",
   "id": "7efc85fca8c347dd",
   "metadata": {
    "ExecuteTime": {
     "end_time": "2024-05-20T10:21:31.212286Z",
     "start_time": "2024-05-20T10:21:19.160668Z"
    }
   },
   "source": [
    "# combine questions and answers into a single string\n",
    "preferences = generate_user_preferences()\n",
    "\n",
    "# define the prompt template for generating tailored descriptions\n",
    "prompt_template = PromptTemplate(\n",
    "    input_variables=[\"listing\", \"preferences\"],\n",
    "    template=\"\"\"\n",
    "    Based on the following user preferences: \n",
    "    {preferences}\n",
    "    \n",
    "    Generate a tailored description for the buyer. This involves subtly emphasizing aspects of the property that align with what the buyer is looking for. Ensure that the augmentation process enhances the appeal of the listing without altering factual information.\n",
    "\n",
    "    Listing:\n",
    "    {listing_description}\n",
    "\n",
    "    Tailored Description:\n",
    "    \"\"\"\n",
    ")\n",
    "    \n",
    "# Generate tailored descriptions for search results\n",
    "for result in search_results:\n",
    "    generate_tailored_result(preferences, result.metadata)"
   ],
   "outputs": [
    {
     "name": "stdout",
     "output_type": "stream",
     "text": [
      "\n",
      "    Based on the following user preferences: \n",
      "    How big do you want your house to be?\n",
      " A comfortable three-bedroom house with a spacious kitchen and a cozy living room.\n",
      "\n",
      "What are 3 most important things for you in choosing this property?\n",
      " A quiet neighborhood, good local schools, and convenient shopping options.\n",
      "\n",
      "Which amenities would you like?\n",
      " A backyard for gardening, a two-car garage, and a modern, energy-efficient heating system.\n",
      "\n",
      "Which transportation options are important to you?\n",
      " Easy access to a reliable bus line, proximity to a major highway, and bike-friendly roads.\n",
      "\n",
      "How urban do you want your neighborhood to be?\n",
      " A balance between suburban tranquility and access to urban amenities like restaurants and theaters.\n",
      "\n",
      "    \n",
      "    Generate a tailored description for the buyer. This involves subtly emphasizing aspects of the property that align with what the buyer is looking for. Ensure that the augmentation process enhances the appeal of the listing without altering factual information.\n",
      "\n",
      "    Listing:\n",
      "    \n",
      "        Neighborhood: Maple Grove\n",
      "        Price: $550,000\n",
      "        Bedrooms: 3\n",
      "        Bathrooms: 2\n",
      "        House Size: 2,000 sqft\n",
      "        Description: Welcome to this charming 3-bedroom, 2-bathroom home in the desirable Maple Grove neighborhood. The open floor plan features a bright and airy living room with hardwood floors and a cozy fireplace. The updated kitchen boasts granite countertops and stainless steel appliances. Retreat to the master suite with a walk-in closet and en-suite bathroom. Enjoy outdoor living in the private backyard with a patio and garden. Experience comfort and convenience in Maple Grove.\n",
      "        Neighborhood Description: Maple Grove is a quiet and friendly neighborhood with tree-lined streets and parks. Residents enjoy easy access to shopping centers, restaurants, and schools. Explore the nearby Maple Grove Park for outdoor recreation or take a short drive to the Maple Grove Shopping Center.\n",
      "        \n",
      "\n",
      "    Tailored Description:\n",
      "    \n",
      "Tailored Description:\n",
      "Welcome to your dream home in the peaceful Maple Grove neighborhood! This charming 3-bedroom, 2-bathroom house offers a spacious kitchen perfect for your culinary adventures and a cozy living room ideal for relaxing evenings. The backyard is perfect for gardening enthusiasts, and the two-car garage provides ample space for your vehicles. Stay warm and eco-friendly with the modern, energy-efficient heating system.\n",
      "\n",
      "Maple Grove is a serene neighborhood with a strong sense of community, making it an ideal location for families. The good local schools and convenient shopping options nearby ensure that all your daily needs are met. With easy access to a reliable bus line and bike-friendly roads, transportation is a breeze. Plus, the balance between suburban tranquility and urban amenities like restaurants and theaters make Maple Grove the perfect place to call home.\n",
      "\n",
      "Don't miss out on this opportunity to experience comfort and convenience in Maple Grove. Schedule a viewing today and make this house your own for $550,000.\n",
      "\n",
      "\n",
      "    Based on the following user preferences: \n",
      "    How big do you want your house to be?\n",
      " A comfortable three-bedroom house with a spacious kitchen and a cozy living room.\n",
      "\n",
      "What are 3 most important things for you in choosing this property?\n",
      " A quiet neighborhood, good local schools, and convenient shopping options.\n",
      "\n",
      "Which amenities would you like?\n",
      " A backyard for gardening, a two-car garage, and a modern, energy-efficient heating system.\n",
      "\n",
      "Which transportation options are important to you?\n",
      " Easy access to a reliable bus line, proximity to a major highway, and bike-friendly roads.\n",
      "\n",
      "How urban do you want your neighborhood to be?\n",
      " A balance between suburban tranquility and access to urban amenities like restaurants and theaters.\n",
      "\n",
      "    \n",
      "    Generate a tailored description for the buyer. This involves subtly emphasizing aspects of the property that align with what the buyer is looking for. Ensure that the augmentation process enhances the appeal of the listing without altering factual information.\n",
      "\n",
      "    Listing:\n",
      "    \n",
      "        Neighborhood: Creekside Village\n",
      "        Price: $670,000\n",
      "        Bedrooms: 4\n",
      "        Bathrooms: 3\n",
      "        House Size: 2,300 sqft\n",
      "        Description: Welcome to this charming 4-bedroom, 3-bathroom home in the desirable Creekside Village neighborhood. The open floor plan features a bright and airy living room with hardwood floors and a cozy fireplace. The updated kitchen boasts granite countertops and stainless steel appliances. Retreat to the master suite with a walk-in closet and en-suite bathroom. Enjoy outdoor living in the private backyard with a patio and garden. Experience comfort and convenience in Creekside Village.\n",
      "        Neighborhood Description: Creekside Village is a quiet and friendly neighborhood with tree-lined streets and parks. Residents enjoy easy access to shopping centers, restaurants, and schools. Explore the nearby Creekside Village Park for outdoor recreation or take a short drive to the Creekside Village Shopping Center.\n",
      "        \n",
      "\n",
      "    Tailored Description:\n",
      "    \n",
      "Tailored Description:\n",
      "Welcome to this stunning 4-bedroom, 3-bathroom home nestled in the peaceful Creekside Village neighborhood. This spacious house offers a comfortable living space with a spacious kitchen perfect for your culinary adventures. The cozy living room is ideal for relaxing evenings by the fireplace. The backyard is perfect for gardening enthusiasts, and the two-car garage provides ample storage space. \n",
      "\n",
      "Creekside Village is known for its tranquil atmosphere and excellent local schools, making it a perfect fit for your family. With convenient shopping options just a short distance away, you'll have everything you need right at your fingertips. The modern, energy-efficient heating system ensures your comfort year-round. \n",
      "\n",
      "For those who value transportation options, this property offers easy access to a reliable bus line and is close to a major highway for convenient commuting. The neighborhood strikes a perfect balance between suburban peace and urban amenities, with restaurants and theaters just a stone's throw away. \n",
      "\n",
      "Don't miss out on the opportunity to make this house your home in the desirable Creekside Village neighborhood. Experience comfort, convenience, and a sense of community in this wonderful property.\n",
      "\n",
      "\n",
      "    Based on the following user preferences: \n",
      "    How big do you want your house to be?\n",
      " A comfortable three-bedroom house with a spacious kitchen and a cozy living room.\n",
      "\n",
      "What are 3 most important things for you in choosing this property?\n",
      " A quiet neighborhood, good local schools, and convenient shopping options.\n",
      "\n",
      "Which amenities would you like?\n",
      " A backyard for gardening, a two-car garage, and a modern, energy-efficient heating system.\n",
      "\n",
      "Which transportation options are important to you?\n",
      " Easy access to a reliable bus line, proximity to a major highway, and bike-friendly roads.\n",
      "\n",
      "How urban do you want your neighborhood to be?\n",
      " A balance between suburban tranquility and access to urban amenities like restaurants and theaters.\n",
      "\n",
      "    \n",
      "    Generate a tailored description for the buyer. This involves subtly emphasizing aspects of the property that align with what the buyer is looking for. Ensure that the augmentation process enhances the appeal of the listing without altering factual information.\n",
      "\n",
      "    Listing:\n",
      "    \n",
      "        Neighborhood: Meadowbrook Heights\n",
      "        Price: $600,000\n",
      "        Bedrooms: 3\n",
      "        Bathrooms: 2\n",
      "        House Size: 2,100 sqft\n",
      "        Description: Step into this charming 3-bedroom, 2-bathroom home in the sought-after Meadowbrook Heights neighborhood. The open floor plan features a gourmet kitchen with granite countertops and stainless steel appliances. The spacious living room boasts a cozy fireplace and hardwood floors. Retreat to the master suite with a walk-in closet and en-suite bathroom. Enjoy outdoor living in the private backyard with a patio and mature landscaping. Experience comfort and style in Meadowbrook Heights.\n",
      "        Neighborhood Description: Meadowbrook Heights is a family-friendly neighborhood with tree-lined streets, parks, and top-rated schools. Residents enjoy easy access to shopping centers, restaurants, and entertainment options. Explore the nearby Meadowbrook Heights Park for outdoor recreation or take a short drive to the Meadowbrook Heights Golf Club.\n",
      "        \n",
      "\n",
      "    Tailored Description:\n",
      "    \n",
      "Tailored Description:\n",
      "Welcome to your dream home in Meadowbrook Heights! This charming 3-bedroom, 2-bathroom house offers a comfortable living space with a spacious kitchen perfect for all your culinary adventures. The cozy living room with a fireplace is ideal for relaxing evenings with loved ones.\n",
      "\n",
      "Located in a quiet and family-friendly neighborhood, Meadowbrook Heights provides easy access to good local schools and convenient shopping options. The private backyard is perfect for gardening enthusiasts, and the two-car garage ensures ample space for your vehicles.\n",
      "\n",
      "For those who value transportation options, this property is conveniently located near a reliable bus line and major highway, with bike-friendly roads for easy commuting. The balance between suburban tranquility and urban amenities like restaurants and theaters makes Meadowbrook Heights the perfect place to call home.\n",
      "\n",
      "Don't miss out on the opportunity to experience comfort and style in this beautiful home. Schedule a viewing today and make Meadowbrook Heights your new neighborhood!\n",
      "\n"
     ]
    }
   ],
   "execution_count": 48
  },
  {
   "metadata": {},
   "cell_type": "code",
   "outputs": [],
   "execution_count": null,
   "source": "",
   "id": "99669199052f62a9"
  }
 ],
 "metadata": {
  "kernelspec": {
   "display_name": "Python 3 (ipykernel)",
   "language": "python",
   "name": "python3"
  },
  "language_info": {
   "codemirror_mode": {
    "name": "ipython",
    "version": 3
   },
   "file_extension": ".py",
   "mimetype": "text/x-python",
   "name": "python",
   "nbconvert_exporter": "python",
   "pygments_lexer": "ipython3",
   "version": "3.9.6"
  }
 },
 "nbformat": 4,
 "nbformat_minor": 5
}
